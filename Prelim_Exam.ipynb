{
  "nbformat": 4,
  "nbformat_minor": 0,
  "metadata": {
    "colab": {
      "provenance": [],
      "authorship_tag": "ABX9TyPOkB+WIIrwKqx0jNdP6xjA",
      "include_colab_link": true
    },
    "kernelspec": {
      "name": "python3",
      "display_name": "Python 3"
    },
    "language_info": {
      "name": "python"
    }
  },
  "cells": [
    {
      "cell_type": "markdown",
      "metadata": {
        "id": "view-in-github",
        "colab_type": "text"
      },
      "source": [
        "<a href=\"https://colab.research.google.com/github/jamesdayao/58013-Linear-Algebra/blob/main/Prelim_Exam.ipynb\" target=\"_parent\"><img src=\"https://colab.research.google.com/assets/colab-badge.svg\" alt=\"Open In Colab\"/></a>"
      ]
    },
    {
      "cell_type": "markdown",
      "source": [
        "Prelim Exam"
      ],
      "metadata": {
        "id": "94FuHCzct2TP"
      }
    },
    {
      "cell_type": "markdown",
      "source": [
        "Question 1\n",
        "\n",
        "Create a Multiplication Table/Chart of 1 to 10 using numpy/ python program."
      ],
      "metadata": {
        "id": "LFfWwQBBu1GY"
      }
    },
    {
      "cell_type": "code",
      "source": [
        "import numpy as np\n",
        "\n",
        "one = ([[1], [2], [3], [4], [5], [6], [7], [8], [9], [10]])\n",
        "two = ([1, 2, 3, 4, 5, 6, 7, 8, 9, 10])\n",
        "\n",
        "x = np.multiply(one, two)\n",
        "\n",
        "print(x)"
      ],
      "metadata": {
        "colab": {
          "base_uri": "https://localhost:8080/"
        },
        "id": "ANgKl1Bku0D_",
        "outputId": "a720c999-1b4e-47bf-c0d8-8944870df71f"
      },
      "execution_count": null,
      "outputs": [
        {
          "output_type": "stream",
          "name": "stdout",
          "text": [
            "[[  1   2   3   4   5   6   7   8   9  10]\n",
            " [  2   4   6   8  10  12  14  16  18  20]\n",
            " [  3   6   9  12  15  18  21  24  27  30]\n",
            " [  4   8  12  16  20  24  28  32  36  40]\n",
            " [  5  10  15  20  25  30  35  40  45  50]\n",
            " [  6  12  18  24  30  36  42  48  54  60]\n",
            " [  7  14  21  28  35  42  49  56  63  70]\n",
            " [  8  16  24  32  40  48  56  64  72  80]\n",
            " [  9  18  27  36  45  54  63  72  81  90]\n",
            " [ 10  20  30  40  50  60  70  80  90 100]]\n"
          ]
        }
      ]
    },
    {
      "cell_type": "markdown",
      "source": [
        "Question 2\n",
        "\n",
        "In relation to Question 1, show a solution that doubles all the values of each element."
      ],
      "metadata": {
        "id": "CB756M6BvbPm"
      }
    },
    {
      "cell_type": "code",
      "source": [
        "y = x * 2\n",
        "print(y)"
      ],
      "metadata": {
        "id": "925ZwlYTv_Nf",
        "outputId": "6039f2e9-7ef1-4161-88c7-267e40a42034",
        "colab": {
          "base_uri": "https://localhost:8080/"
        }
      },
      "execution_count": null,
      "outputs": [
        {
          "output_type": "stream",
          "name": "stdout",
          "text": [
            "[[  2   4   6   8  10  12  14  16  18  20]\n",
            " [  4   8  12  16  20  24  28  32  36  40]\n",
            " [  6  12  18  24  30  36  42  48  54  60]\n",
            " [  8  16  24  32  40  48  56  64  72  80]\n",
            " [ 10  20  30  40  50  60  70  80  90 100]\n",
            " [ 12  24  36  48  60  72  84  96 108 120]\n",
            " [ 14  28  42  56  70  84  98 112 126 140]\n",
            " [ 16  32  48  64  80  96 112 128 144 160]\n",
            " [ 18  36  54  72  90 108 126 144 162 180]\n",
            " [ 20  40  60  80 100 120 140 160 180 200]]\n"
          ]
        }
      ]
    },
    {
      "cell_type": "markdown",
      "source": [
        "Question 3\n",
        "\n",
        "Create a square matrix that has a diagonal 1's."
      ],
      "metadata": {
        "id": "igYSmvzPwEIG"
      }
    },
    {
      "cell_type": "code",
      "source": [
        "np.eye(3,3)"
      ],
      "metadata": {
        "id": "YZZ3z70awDr-",
        "colab": {
          "base_uri": "https://localhost:8080/"
        },
        "outputId": "8961ef25-bded-4e71-a66d-0d61b88e2e12"
      },
      "execution_count": null,
      "outputs": [
        {
          "output_type": "execute_result",
          "data": {
            "text/plain": [
              "array([[1., 0., 0.],\n",
              "       [0., 1., 0.],\n",
              "       [0., 0., 1.]])"
            ]
          },
          "metadata": {},
          "execution_count": 16
        }
      ]
    },
    {
      "cell_type": "markdown",
      "source": [
        "Question 4\n",
        "\n",
        "Create a matrix whose elements are:\n",
        "\n",
        "matrix = np.array([[1, 2, 3, 4], [5, 6, 7, 8], [9, 10, 11, 12]])"
      ],
      "metadata": {
        "id": "HyXpGNx4wqrJ"
      }
    },
    {
      "cell_type": "code",
      "source": [
        "import numpy as np\n",
        "\n",
        "matrix = np.array([[1, 2, 3, 4], [5, 6, 7, 8], [9, 10, 11, 12]])\n",
        "\n",
        "print(matrix, \"\\n\")\n",
        "\n",
        "#Size\n",
        "l = np.size(matrix)\n",
        "print(\"Size:\", l, \"\\n\")\n",
        "\n",
        "#Shape\n",
        "m = np.shape(matrix)\n",
        "print(\"Shape:\", m, \"\\n\")\n",
        "\n",
        "#Dimension\n",
        "n = np.ndim(matrix)\n",
        "print(\"Dimension:\", n)"
      ],
      "metadata": {
        "colab": {
          "base_uri": "https://localhost:8080/"
        },
        "id": "GjMzcvWazz4g",
        "outputId": "11736d82-1b0c-4e46-cec9-ba487dd6015c"
      },
      "execution_count": 21,
      "outputs": [
        {
          "output_type": "stream",
          "name": "stdout",
          "text": [
            "[[ 1  2  3  4]\n",
            " [ 5  6  7  8]\n",
            " [ 9 10 11 12]] \n",
            "\n",
            "Size: 12 \n",
            "\n",
            "Shape: (3, 4) \n",
            "\n",
            "Dimension: 2\n"
          ]
        }
      ]
    },
    {
      "cell_type": "markdown",
      "source": [
        "Question 5\n",
        "\n",
        "Create a result array by adding the following two NumPy arrays. Next, modify the result array by calculating the square of each element"
      ],
      "metadata": {
        "id": "77L1bVW5yuDf"
      }
    },
    {
      "cell_type": "code",
      "source": [
        "import numpy as np\n",
        "\n",
        "arrayOne = np.array([[5,6,9], [21,18,27]])\n",
        "arrayTwo = np.array([[15,33,24], [4,7,1]])\n",
        "\n",
        "j = np.add(arrayOne, arrayTwo)\n",
        "\n",
        "#Add\n",
        "print(j, \"\\n\")\n",
        "\n",
        "#Squared\n",
        "print(j ** 2)\n"
      ],
      "metadata": {
        "colab": {
          "base_uri": "https://localhost:8080/"
        },
        "id": "SR-JdLyEyyG4",
        "outputId": "ca4b0a1f-cc3c-4082-8a1d-622aa60c5253"
      },
      "execution_count": 22,
      "outputs": [
        {
          "output_type": "stream",
          "name": "stdout",
          "text": [
            "[[20 39 33]\n",
            " [25 25 28]] \n",
            "\n",
            "[[ 400 1521 1089]\n",
            " [ 625  625  784]]\n"
          ]
        }
      ]
    }
  ]
}