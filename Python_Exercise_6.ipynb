{
  "nbformat": 4,
  "nbformat_minor": 0,
  "metadata": {
    "colab": {
      "provenance": [],
      "authorship_tag": "ABX9TyNDYAG3AkIba7FtW/Tii/t/",
      "include_colab_link": true
    },
    "kernelspec": {
      "name": "python3",
      "display_name": "Python 3"
    },
    "language_info": {
      "name": "python"
    }
  },
  "cells": [
    {
      "cell_type": "markdown",
      "metadata": {
        "id": "view-in-github",
        "colab_type": "text"
      },
      "source": [
        "<a href=\"https://colab.research.google.com/github/jamesdayao/58013-Linear-Algebra/blob/main/Python_Exercise_6.ipynb\" target=\"_parent\"><img src=\"https://colab.research.google.com/assets/colab-badge.svg\" alt=\"Open In Colab\"/></a>"
      ]
    },
    {
      "cell_type": "markdown",
      "source": [
        "#Mutlidimensional List"
      ],
      "metadata": {
        "id": "9bKVICEgR1lv"
      }
    },
    {
      "cell_type": "markdown",
      "source": [
        "Accessing a multidimensional list"
      ],
      "metadata": {
        "id": "hw14cgHnSNyo"
      }
    },
    {
      "cell_type": "code",
      "execution_count": 3,
      "metadata": {
        "colab": {
          "base_uri": "https://localhost:8080/"
        },
        "id": "m-DQkopcRc8j",
        "outputId": "1a7d1519-8cd1-4f31-c555-85370052998e"
      },
      "outputs": [
        {
          "output_type": "stream",
          "name": "stdout",
          "text": [
            "[[2, 4, 6, 8, 10], [3, 6, 9, 12, 15], [4, 8, 12, 16, 20]]\n"
          ]
        }
      ],
      "source": [
        "import numpy as np\n",
        "\n",
        "a = [[2,4,6,8,10],[3,6,9,12,15],[4,8,12,16,20]]\n",
        "print(a)"
      ]
    },
    {
      "cell_type": "markdown",
      "source": [
        "Accessing with the help of loop"
      ],
      "metadata": {
        "id": "P3soSBzdSQie"
      }
    },
    {
      "cell_type": "code",
      "source": [
        "import numpy as np\n",
        "\n",
        "a = [[2,4,6,8,10],[3,6,9,12,15],[4,8,12,16,20]]\n",
        "\n",
        "for record in a:\n",
        "  print(record)"
      ],
      "metadata": {
        "colab": {
          "base_uri": "https://localhost:8080/"
        },
        "id": "KXajSgknSSpx",
        "outputId": "e60763ee-a952-48ca-9f02-d12e015447e6"
      },
      "execution_count": 4,
      "outputs": [
        {
          "output_type": "stream",
          "name": "stdout",
          "text": [
            "[2, 4, 6, 8, 10]\n",
            "[3, 6, 9, 12, 15]\n",
            "[4, 8, 12, 16, 20]\n"
          ]
        }
      ]
    },
    {
      "cell_type": "markdown",
      "source": [
        "Accessing using square brackets"
      ],
      "metadata": {
        "id": "R3B_LWRcSYhD"
      }
    },
    {
      "cell_type": "code",
      "source": [
        "import numpy as np\n",
        "\n",
        "a = [[2,4,6,8],[1,3,5,7],[8,6,4,2],[7,5,3,1]]\n",
        "\n",
        "for i in range(len(a)):\n",
        "  for j in range(len(a[i])):\n",
        "    print(a[i][j], end=\"\")\n",
        "\n",
        "  print()"
      ],
      "metadata": {
        "colab": {
          "base_uri": "https://localhost:8080/"
        },
        "id": "X-tNCSFASa3x",
        "outputId": "97a211a9-8557-4f28-b878-67e650471592"
      },
      "execution_count": 6,
      "outputs": [
        {
          "output_type": "stream",
          "name": "stdout",
          "text": [
            "2468\n",
            "1357\n",
            "8642\n",
            "7531\n"
          ]
        }
      ]
    }
  ]
}