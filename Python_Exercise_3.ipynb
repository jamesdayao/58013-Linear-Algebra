{
  "nbformat": 4,
  "nbformat_minor": 0,
  "metadata": {
    "colab": {
      "provenance": [],
      "authorship_tag": "ABX9TyPV/fIQ4z4IaBvAkjIwAE/H",
      "include_colab_link": true
    },
    "kernelspec": {
      "name": "python3",
      "display_name": "Python 3"
    },
    "language_info": {
      "name": "python"
    }
  },
  "cells": [
    {
      "cell_type": "markdown",
      "metadata": {
        "id": "view-in-github",
        "colab_type": "text"
      },
      "source": [
        "<a href=\"https://colab.research.google.com/github/jamesdayao/58013-Linear-Algebra/blob/main/Python_Exercise_3.ipynb\" target=\"_parent\"><img src=\"https://colab.research.google.com/assets/colab-badge.svg\" alt=\"Open In Colab\"/></a>"
      ]
    },
    {
      "cell_type": "markdown",
      "source": [
        "**Vector Operations**"
      ],
      "metadata": {
        "id": "QzyIoHdzmUbg"
      }
    },
    {
      "cell_type": "markdown",
      "source": [
        "**Vector Addition**"
      ],
      "metadata": {
        "id": "ge01sAcsmXv9"
      }
    },
    {
      "cell_type": "code",
      "execution_count": 34,
      "metadata": {
        "colab": {
          "base_uri": "https://localhost:8080/"
        },
        "id": "kMebKwDmmOuk",
        "outputId": "8fa13899-340e-478b-b409-ef74273966d0"
      },
      "outputs": [
        {
          "output_type": "stream",
          "name": "stdout",
          "text": [
            "[ 4  3 -1]\n",
            "[ 4  3 -1] \n",
            "\n"
          ]
        },
        {
          "output_type": "execute_result",
          "data": {
            "text/plain": [
              "2"
            ]
          },
          "metadata": {},
          "execution_count": 34
        }
      ],
      "source": [
        "import numpy as np\n",
        "\n",
        "A = np.array([1,2,0])\n",
        "B = np.array([3,1,-2])\n",
        "C = np.array([0,0,1])\n",
        "\n",
        "print(A + B + C)\n",
        "\n",
        "#OR\n",
        "\n",
        "print(np.add(A, np.add(B,C)), \"\\n\")\n",
        "\n",
        "np.sum(B)"
      ]
    },
    {
      "cell_type": "code",
      "source": [
        "#Testing other methods\n",
        "\n",
        "print(np.sum(A))\n",
        "print(np.sum(B))\n",
        "print(np.sum(C),\"\\n\")\n",
        "\n",
        "print(np.sum(A + B + C)) #Summation of the matrix\n"
      ],
      "metadata": {
        "colab": {
          "base_uri": "https://localhost:8080/"
        },
        "id": "dJnNUi1Lorw2",
        "outputId": "e38c0e2f-f7c7-49f5-ec5d-5aea81ba4754"
      },
      "execution_count": 36,
      "outputs": [
        {
          "output_type": "stream",
          "name": "stdout",
          "text": [
            "3\n",
            "2\n",
            "1 \n",
            "\n",
            "6\n"
          ]
        }
      ]
    },
    {
      "cell_type": "markdown",
      "source": [
        "**Vector Subtraction**"
      ],
      "metadata": {
        "id": "d6uGPyYpniv1"
      }
    },
    {
      "cell_type": "code",
      "source": [
        "import numpy as np\n",
        "\n",
        "A = np.array([1,2,0])\n",
        "B = np.array([3,1,-2])\n",
        "C = np.array([0,0,1])\n",
        "\n",
        "print(np.subtract(A, B))\n",
        "\n",
        "#OR\n",
        "\n",
        "print(A - B)"
      ],
      "metadata": {
        "colab": {
          "base_uri": "https://localhost:8080/"
        },
        "id": "62dh8INbnlbz",
        "outputId": "28f8653e-e5b6-4102-84f2-efab9845691f"
      },
      "execution_count": 26,
      "outputs": [
        {
          "output_type": "stream",
          "name": "stdout",
          "text": [
            "[-2  1  2]\n",
            "[-2  1  2]\n"
          ]
        }
      ]
    },
    {
      "cell_type": "markdown",
      "source": [
        "**Vector Multiplication**"
      ],
      "metadata": {
        "id": "tpZPDVrVprUU"
      }
    },
    {
      "cell_type": "code",
      "source": [
        "import numpy as np\n",
        "\n",
        "A = np.array([1,2,0])\n",
        "B = np.array([3,1,-2])\n",
        "C = np.array([0,0,1])\n",
        "\n",
        "print(np.multiply(A,B))\n",
        "\n",
        "#OR\n",
        "\n",
        "print(A * B)"
      ],
      "metadata": {
        "colab": {
          "base_uri": "https://localhost:8080/"
        },
        "id": "Lb0m7e0TpeW-",
        "outputId": "56d909bb-87a2-455d-ee2b-ea3c504a39b5"
      },
      "execution_count": 38,
      "outputs": [
        {
          "output_type": "stream",
          "name": "stdout",
          "text": [
            "[3 2 0]\n",
            "[3 2 0]\n"
          ]
        }
      ]
    },
    {
      "cell_type": "markdown",
      "source": [
        "**Vector Division**"
      ],
      "metadata": {
        "id": "WkWubRndqi8T"
      }
    },
    {
      "cell_type": "code",
      "source": [
        "import numpy as np\n",
        "\n",
        "A = np.array([1,2,0])\n",
        "B = np.array([3,1,-2])\n",
        "C = np.array([0,0,1])\n",
        "\n",
        "print(np.divide(A,B))\n",
        "\n",
        "#OR\n",
        "\n",
        "print(A / B)\n",
        "\n",
        "C = np.array([3.9, 1.8, 7.7])\n",
        "D = np.array([1, 1, 1])\n",
        "\n",
        "print(C // D)\n",
        "\n",
        "print(np.array(A/B, dtype=int))"
      ],
      "metadata": {
        "colab": {
          "base_uri": "https://localhost:8080/"
        },
        "id": "TUXsw79Iqlu5",
        "outputId": "85d5817e-1175-4d22-e328-b3daa9e193f5"
      },
      "execution_count": 52,
      "outputs": [
        {
          "output_type": "stream",
          "name": "stdout",
          "text": [
            "[ 0.33333333  2.         -0.        ]\n",
            "[ 0.33333333  2.         -0.        ]\n",
            "[3. 1. 7.]\n",
            "[0 2 0]\n"
          ]
        }
      ]
    }
  ]
}