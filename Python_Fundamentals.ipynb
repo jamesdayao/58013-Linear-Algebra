{
  "nbformat": 4,
  "nbformat_minor": 0,
  "metadata": {
    "colab": {
      "provenance": [],
      "authorship_tag": "ABX9TyNRH2mw28rSnh5VTj5OAAnz",
      "include_colab_link": true
    },
    "kernelspec": {
      "name": "python3",
      "display_name": "Python 3"
    },
    "language_info": {
      "name": "python"
    }
  },
  "cells": [
    {
      "cell_type": "markdown",
      "metadata": {
        "id": "view-in-github",
        "colab_type": "text"
      },
      "source": [
        "<a href=\"https://colab.research.google.com/github/jamesdayao/58013-Linear-Algebra/blob/main/Python_Fundamentals.ipynb\" target=\"_parent\"><img src=\"https://colab.research.google.com/assets/colab-badge.svg\" alt=\"Open In Colab\"/></a>"
      ]
    },
    {
      "cell_type": "markdown",
      "source": [
        "Variable and Data Type"
      ],
      "metadata": {
        "id": "VaNn4uSu9p0A"
      }
    },
    {
      "cell_type": "code",
      "execution_count": 11,
      "metadata": {
        "colab": {
          "base_uri": "https://localhost:8080/"
        },
        "id": "uSzp4Fee9D6w",
        "outputId": "d67151f0-c251-41c7-b131-e270c5ea4b2d"
      },
      "outputs": [
        {
          "output_type": "stream",
          "name": "stdout",
          "text": [
            "<class 'int'>\n",
            "<class 'float'>\n",
            "<class 'float'>\n",
            "<class 'str'>\n"
          ]
        },
        {
          "output_type": "execute_result",
          "data": {
            "text/plain": [
              "0"
            ]
          },
          "metadata": {},
          "execution_count": 11
        }
      ],
      "source": [
        "#using type() to get the type of an object\n",
        "\n",
        "x = 1\n",
        "a,b = 0, -1\n",
        "print(type(x))\n",
        "\n",
        "y = 1.0\n",
        "print(type(y))\n",
        "\n",
        "x = float(x)\n",
        "print(type(x))\n",
        "\n",
        "s,t,u = \"0\", '1', 'one'\n",
        "print(type(s))\n",
        "\n",
        "s_int = int(s)\n",
        "s_int"
      ]
    },
    {
      "cell_type": "markdown",
      "source": [
        "Arithmetic Operations"
      ],
      "metadata": {
        "id": "HG_RFT66_MYT"
      }
    },
    {
      "cell_type": "code",
      "source": [
        "a, b, c, d = 2.0, -0.5, 0, -32\n",
        "\n",
        "#Addition\n",
        "S = a + b\n",
        "print(S)\n",
        "\n",
        "#Subtraction\n",
        "D = b - d\n",
        "print(D)\n",
        "\n",
        "#Multiplication\n",
        "P = a * d\n",
        "print(P)\n",
        "\n",
        "#Division\n",
        "Q = c / a\n",
        "print(Q)\n",
        "\n",
        "#Exponentiation\n",
        "E = a ** b\n",
        "print(E)\n",
        "\n",
        "#Modulo\n",
        "mod = d % a\n",
        "mod"
      ],
      "metadata": {
        "colab": {
          "base_uri": "https://localhost:8080/"
        },
        "id": "rhoPXSO6_O1G",
        "outputId": "0dcc319d-ad16-444c-cd4f-5b98a89af693"
      },
      "execution_count": 12,
      "outputs": [
        {
          "output_type": "stream",
          "name": "stdout",
          "text": [
            "1.5\n",
            "31.5\n",
            "-64.0\n",
            "0.0\n",
            "0.7071067811865476\n"
          ]
        },
        {
          "output_type": "execute_result",
          "data": {
            "text/plain": [
              "0.0"
            ]
          },
          "metadata": {},
          "execution_count": 12
        }
      ]
    },
    {
      "cell_type": "markdown",
      "source": [
        "Assignment Operations"
      ],
      "metadata": {
        "id": "Y3eLuXEV_8dq"
      }
    },
    {
      "cell_type": "code",
      "source": [
        "G, H, J, K = 0, 100, 2, 2\n",
        "\n",
        "G += a #same as G = G + a\n",
        "print(G)\n",
        "\n",
        "H -= d #same as H = H - d\n",
        "print(H)\n",
        "\n",
        "J *= 2 #same as J = J * 2\n",
        "print(J)\n",
        "\n",
        "K **= 2 #same as K = K ** 2\n",
        "print(K)"
      ],
      "metadata": {
        "colab": {
          "base_uri": "https://localhost:8080/"
        },
        "id": "m0i8nZL0_-Qe",
        "outputId": "37b99817-ace0-43b0-e073-b8f0c8da10c0"
      },
      "execution_count": 13,
      "outputs": [
        {
          "output_type": "stream",
          "name": "stdout",
          "text": [
            "2.0\n",
            "132\n",
            "4\n",
            "4\n"
          ]
        }
      ]
    },
    {
      "cell_type": "markdown",
      "source": [
        "Comparators"
      ],
      "metadata": {
        "id": "9AzpfbyACs6s"
      }
    },
    {
      "cell_type": "code",
      "source": [
        "res_1, res_2, res_3 = 1, 2.0, \"1\"\n",
        "true_val = 1.0\n",
        "\n",
        "#Equality\n",
        "a = res_1 == true_val\n",
        "print(a)\n",
        "\n",
        "#Non-Equality\n",
        "b = res_2 != true_val\n",
        "print(b)\n",
        "\n",
        "#Inequality\n",
        "t1 = res_1 > res_2\n",
        "t2 = res_1 < res_2/2\n",
        "t3 = res_1 >= res_2/2\n",
        "t4 = res_1 <= res_2\n",
        "print(t1)\n",
        "print(t2)\n",
        "print(t3)\n",
        "print(t4)"
      ],
      "metadata": {
        "colab": {
          "base_uri": "https://localhost:8080/"
        },
        "id": "PHb-AEtaCuc6",
        "outputId": "017c83e5-b6f0-4a78-e961-56f22e6fecbf"
      },
      "execution_count": 18,
      "outputs": [
        {
          "output_type": "stream",
          "name": "stdout",
          "text": [
            "True\n",
            "True\n",
            "False\n",
            "False\n",
            "True\n",
            "True\n"
          ]
        }
      ]
    },
    {
      "cell_type": "markdown",
      "source": [
        "Logical Operators"
      ],
      "metadata": {
        "id": "Gl9inE3XE6HQ"
      }
    },
    {
      "cell_type": "code",
      "source": [
        "from IPython.core.interactiveshell import dis\n",
        "a = res_1 == true_val\n",
        "print(a)\n",
        "\n",
        "b = res_1 is true_val\n",
        "print(b)\n",
        "\n",
        "c = res_1 is not true_val\n",
        "print(c)\n",
        "\n",
        "p, q = True, False\n",
        "conj = p and q\n",
        "print(conj)\n",
        "\n",
        "disj = p or q\n",
        "print(disj)\n",
        "\n",
        "nand = not(p and q)\n",
        "print(nand)\n",
        "\n",
        "xor = (not p and q) or (p and not q)\n",
        "xor"
      ],
      "metadata": {
        "colab": {
          "base_uri": "https://localhost:8080/"
        },
        "id": "W4sMmyUJE9VN",
        "outputId": "b803ddd3-11b9-44ec-95bb-d807a3fe23ab"
      },
      "execution_count": 24,
      "outputs": [
        {
          "output_type": "stream",
          "name": "stdout",
          "text": [
            "True\n",
            "False\n",
            "True\n",
            "False\n",
            "True\n",
            "True\n"
          ]
        },
        {
          "output_type": "execute_result",
          "data": {
            "text/plain": [
              "True"
            ]
          },
          "metadata": {},
          "execution_count": 24
        }
      ]
    },
    {
      "cell_type": "markdown",
      "source": [
        "Input and Output Operations"
      ],
      "metadata": {
        "id": "kb3K7ouhFyS2"
      }
    },
    {
      "cell_type": "code",
      "source": [
        "from ctypes import c_uint16\n",
        "print(\"Hello World!\")\n",
        "cnt = 1\n",
        "\n",
        "string = \"Hello World!\"\n",
        "print(string, \", Current run count is:\", cnt)\n",
        "cnt += 1\n",
        "\n",
        "print(f\"{string} , Current count is: {cnt}\")\n",
        "print(\"\\n\")\n",
        "\n",
        "sem_grade = 82.2436564657461234\n",
        "name = \"\"\n",
        "print(\"Hello {}, your semestral grade is: {}\".format(name, sem_grade))\n",
        "print(\"Hello\", name,\", your semestral grade is:\", sem_grade)\n",
        "\n",
        "w_pg, w_mg, w_fg = 0.3, 0.3, 0.4\n",
        "print(\"The weights of your semestral grades are:\\n\\t{:.2%} for Prelims \\n\\t{:.2%} for Midterms \\n\\t{:.2%} for Finals \\n\\t\".format(w_pg, w_mg, w_fg))\n"
      ],
      "metadata": {
        "colab": {
          "base_uri": "https://localhost:8080/"
        },
        "id": "Fu48RA-XF1KG",
        "outputId": "e33c20a1-1b69-4d16-bc1d-fe9aba201515"
      },
      "execution_count": 66,
      "outputs": [
        {
          "output_type": "stream",
          "name": "stdout",
          "text": [
            "Hello World!\n",
            "Hello World! , Current run count is: 1\n",
            "Hello World! , Current count is: 2\n",
            "\n",
            "\n",
            "Hello , your semestral grade is: 82.24365646574613\n",
            "Hello  , your semestral grade is: 82.24365646574613\n",
            "The weights of your semestral grades are:\n",
            "\t30.00% for Prelims \n",
            "\t30.00% for Midterms \n",
            "\t40.00% for Finals \n",
            "\t\n"
          ]
        }
      ]
    },
    {
      "cell_type": "code",
      "source": [
        "x = input(\"Enter a number: \")\n",
        "print(x)\n",
        "\n"
      ],
      "metadata": {
        "colab": {
          "base_uri": "https://localhost:8080/"
        },
        "id": "jBNsnYlhMxZD",
        "outputId": "a7ff034e-8807-4c21-c992-183ef327a317"
      },
      "execution_count": 69,
      "outputs": [
        {
          "output_type": "stream",
          "name": "stdout",
          "text": [
            "Enter a number: 1\n",
            "1\n"
          ]
        }
      ]
    },
    {
      "cell_type": "code",
      "source": [
        "name = input(\"Kimi no yawa: \")\n",
        "pg = input(\"Enter prelim  grade: \")\n",
        "mg = input(\"Enter midterm grade: \")\n",
        "fg = input(\"Enter finals grade: \")\n",
        "sem_grade = None\n",
        "\n",
        "print(\"Hello {}, your semestral grade is {}\".format(name, sem_grade))"
      ],
      "metadata": {
        "colab": {
          "base_uri": "https://localhost:8080/"
        },
        "id": "hksN1peeNe0K",
        "outputId": "9343428d-9b84-4cf3-c267-6b445f02084a"
      },
      "execution_count": 70,
      "outputs": [
        {
          "output_type": "stream",
          "name": "stdout",
          "text": [
            "Kimi no  yawa: James\n",
            "Enter prelim  grade: 1\n",
            "Enter midterm grade: 1.0\n",
            "Enter finals grade: 1.0\n",
            "Hello James, your semestral grade is None\n"
          ]
        }
      ]
    },
    {
      "cell_type": "markdown",
      "source": [
        "Looping Statements"
      ],
      "metadata": {
        "id": "AW1bYbmxNl-X"
      }
    },
    {
      "cell_type": "code",
      "source": [
        "#While Loops\n",
        "i, j = 0, 10\n",
        "while(i <= j):\n",
        "  print(f\"{i}\\t\\t {j}\")\n",
        "  i += 1"
      ],
      "metadata": {
        "colab": {
          "base_uri": "https://localhost:8080/"
        },
        "id": "1mkWh7CvNn_Y",
        "outputId": "f01f73be-195d-4088-e135-7c0430a4caf2"
      },
      "execution_count": 71,
      "outputs": [
        {
          "output_type": "stream",
          "name": "stdout",
          "text": [
            "0\t\t 10\n",
            "1\t\t 10\n",
            "2\t\t 10\n",
            "3\t\t 10\n",
            "4\t\t 10\n",
            "5\t\t 10\n",
            "6\t\t 10\n",
            "7\t\t 10\n",
            "8\t\t 10\n",
            "9\t\t 10\n",
            "10\t\t 10\n"
          ]
        }
      ]
    },
    {
      "cell_type": "code",
      "source": [
        "#For Loops\n",
        "i = 0\n",
        "for i in range(10):\n",
        "  print(i)"
      ],
      "metadata": {
        "colab": {
          "base_uri": "https://localhost:8080/"
        },
        "id": "M0zTAAspQt8U",
        "outputId": "39682d1b-1caf-437f-ba7f-3f9aff2f50bf"
      },
      "execution_count": 96,
      "outputs": [
        {
          "output_type": "stream",
          "name": "stdout",
          "text": [
            "0\n",
            "1\n",
            "2\n",
            "3\n",
            "4\n",
            "5\n",
            "6\n",
            "7\n",
            "8\n",
            "9\n"
          ]
        }
      ]
    },
    {
      "cell_type": "markdown",
      "source": [
        "Flow Control"
      ],
      "metadata": {
        "id": "YHrl-T2Od5i8"
      }
    },
    {
      "cell_type": "code",
      "source": [
        "#Condition Statements\n",
        "numeral1, numeral2 =  12, 12\n",
        "if(numeral1 == numeral2):\n",
        "  print(\"Yey\")\n",
        "\n",
        "elif(numeral1 > numeral2):\n",
        "  print(\"Hoho\")\n",
        "\n",
        "else:\n",
        "  print(\"Aww\")\n",
        "\n",
        "print(\"Hip Hip\")"
      ],
      "metadata": {
        "colab": {
          "base_uri": "https://localhost:8080/"
        },
        "id": "I2oAGIVud68c",
        "outputId": "6fec9eda-d38a-4e58-fffd-290948411980"
      },
      "execution_count": 97,
      "outputs": [
        {
          "output_type": "stream",
          "name": "stdout",
          "text": [
            "Yey\n",
            "Hip Hip\n"
          ]
        }
      ]
    },
    {
      "cell_type": "markdown",
      "source": [
        "Functions"
      ],
      "metadata": {
        "id": "BsQAoN5Wfig7"
      }
    },
    {
      "cell_type": "code",
      "source": [
        "#void DeleteUser(int userid){\n",
        "# delete(userid);\n",
        "# }\n",
        "\n",
        "def delete_user(userid):\n",
        "  print(\"Successfully deleted user: {}\".format(userid))\n",
        "\n",
        "def delete_all_users():\n",
        "  print(\"Successfuly deleted all users\")"
      ],
      "metadata": {
        "id": "sa2ZsfCvfgku"
      },
      "execution_count": 100,
      "outputs": []
    }
  ]
}