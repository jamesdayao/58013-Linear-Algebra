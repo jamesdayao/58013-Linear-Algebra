{
  "nbformat": 4,
  "nbformat_minor": 0,
  "metadata": {
    "colab": {
      "provenance": [],
      "authorship_tag": "ABX9TyOti60YdDDbWQcWnjhNcP2l",
      "include_colab_link": true
    },
    "kernelspec": {
      "name": "python3",
      "display_name": "Python 3"
    },
    "language_info": {
      "name": "python"
    }
  },
  "cells": [
    {
      "cell_type": "markdown",
      "metadata": {
        "id": "view-in-github",
        "colab_type": "text"
      },
      "source": [
        "<a href=\"https://colab.research.google.com/github/jamesdayao/58013-Linear-Algebra/blob/main/Lab_4.ipynb\" target=\"_parent\"><img src=\"https://colab.research.google.com/assets/colab-badge.svg\" alt=\"Open In Colab\"/></a>"
      ]
    },
    {
      "cell_type": "code",
      "execution_count": 25,
      "metadata": {
        "colab": {
          "base_uri": "https://localhost:8080/"
        },
        "id": "3hUn15E6-MQK",
        "outputId": "57e56af5-b6df-41f3-9399-ee00c4a9cb9d"
      },
      "outputs": [
        {
          "output_type": "stream",
          "name": "stdout",
          "text": [
            "[[-0.4]\n",
            " [ 4.3]\n",
            " [-0.6]] \n",
            "\n",
            "[-0.2  0.2  1. ] \n",
            "\n",
            "[-0.2  2.1 -1.5] \n",
            "\n",
            "Multiplication:\n",
            " [[-0.016 -0.168  0.6  ]\n",
            " [ 0.172  1.806 -6.45 ]\n",
            " [-0.024 -0.252  0.9  ]] \n",
            "\n",
            "Division:\n",
            " [[-10.          -0.95238095   0.26666667]\n",
            " [107.5         10.23809524  -2.86666667]\n",
            " [-15.          -1.42857143   0.4       ]] \n",
            "\n",
            "Addition:\n",
            " [[-0.8  1.9 -0.9]\n",
            " [ 3.9  6.6  3.8]\n",
            " [-1.   1.7 -1.1]] \n",
            "\n",
            "Subtraction:\n",
            " [[ 0.  -2.7  0.1]\n",
            " [ 4.7  2.   4.8]\n",
            " [-0.2 -2.9 -0.1]] \n",
            "\n"
          ]
        }
      ],
      "source": [
        "import numpy as np\n",
        "\n",
        "A = np.array([[-0.4], [4.3],[-0.6]])\n",
        "B = np.array([-0.2, 0.2, 1])\n",
        "C = np.array([-0.2, 2.1, -1.5])\n",
        "\n",
        "print(A, \"\\n\")\n",
        "print(B,\"\\n\")\n",
        "print(C, \"\\n\")\n",
        "\n",
        "sum = np.add(np.add(A, B), C)\n",
        "diff = np.subtract(np.subtract(A, B), C)\n",
        "prod = np.multiply(np.multiply(A, B), C)\n",
        "quo = np.divide(np.divide(A,B), C)\n",
        "\n",
        "#Multiplication\n",
        "print(\"Multiplication:\\n\", prod, \"\\n\")\n",
        "\n",
        "#Division\n",
        "print(\"Division:\\n\", quo, \"\\n\")\n",
        "\n",
        "#Addition\n",
        "print(\"Addition:\\n\", sum, \"\\n\")\n",
        "\n",
        "#Subtraction\n",
        "print(\"Subtraction:\\n\", diff, \"\\n\")"
      ]
    }
  ]
}