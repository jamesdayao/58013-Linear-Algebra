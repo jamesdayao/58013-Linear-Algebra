{
  "nbformat": 4,
  "nbformat_minor": 0,
  "metadata": {
    "colab": {
      "provenance": [],
      "authorship_tag": "ABX9TyM5MEMl2CpHuf3cOGk0gLdr",
      "include_colab_link": true
    },
    "kernelspec": {
      "name": "python3",
      "display_name": "Python 3"
    },
    "language_info": {
      "name": "python"
    }
  },
  "cells": [
    {
      "cell_type": "markdown",
      "metadata": {
        "id": "view-in-github",
        "colab_type": "text"
      },
      "source": [
        "<a href=\"https://colab.research.google.com/github/jamesdayao/58013-Linear-Algebra/blob/main/Review_of_Python.ipynb\" target=\"_parent\"><img src=\"https://colab.research.google.com/assets/colab-badge.svg\" alt=\"Open In Colab\"/></a>"
      ]
    },
    {
      "cell_type": "markdown",
      "source": [
        "Python Indentation"
      ],
      "metadata": {
        "id": "KpzGrotmf7Nx"
      }
    },
    {
      "cell_type": "code",
      "execution_count": 14,
      "metadata": {
        "colab": {
          "base_uri": "https://localhost:8080/"
        },
        "id": "w8CZIeLZfqP8",
        "outputId": "b9cff7f7-ecae-4314-d86d-ad0996c1d466"
      },
      "outputs": [
        {
          "output_type": "stream",
          "name": "stdout",
          "text": [
            "Five is greater than Two\n"
          ]
        }
      ],
      "source": [
        "if 5 > 2:\n",
        "  print(\"Five is greater than Two\")"
      ]
    },
    {
      "cell_type": "markdown",
      "source": [
        "Python Comments"
      ],
      "metadata": {
        "id": "YqnH2GlQiXuR"
      }
    },
    {
      "cell_type": "code",
      "source": [
        "#This is a comment\n",
        "\n",
        "print(\"Hello, World!\")"
      ],
      "metadata": {
        "colab": {
          "base_uri": "https://localhost:8080/"
        },
        "id": "AkQ14vF4iY15",
        "outputId": "0a9d94d9-a975-47f4-f0ad-273a0bc0662c"
      },
      "execution_count": 18,
      "outputs": [
        {
          "output_type": "stream",
          "name": "stdout",
          "text": [
            "Hello, World!\n"
          ]
        }
      ]
    },
    {
      "cell_type": "markdown",
      "source": [
        "Variable Naming Conventions"
      ],
      "metadata": {
        "id": "f9IXbisPiwrx"
      }
    },
    {
      "cell_type": "code",
      "source": [
        "x = 1\n",
        "y, z= 0, -1\n",
        "d, e, f = 0, -1, 2\n",
        "\n",
        "b = \"Sally\" #This is a type of string"
      ],
      "metadata": {
        "id": "cUGlVzS_iyeZ"
      },
      "execution_count": 25,
      "outputs": []
    },
    {
      "cell_type": "markdown",
      "source": [
        "Casting"
      ],
      "metadata": {
        "id": "Yb4LnXL1j4zO"
      }
    },
    {
      "cell_type": "code",
      "source": [
        "b = \"Sally\" #This is a type of string\n",
        "b = int(4)\n",
        "print(b)\n",
        "\n",
        "b = float(4)\n",
        "print(b)"
      ],
      "metadata": {
        "colab": {
          "base_uri": "https://localhost:8080/"
        },
        "id": "N5SL1y_Jj5v0",
        "outputId": "f2bb76c1-22e1-4506-9781-044d86d4b9a6"
      },
      "execution_count": 26,
      "outputs": [
        {
          "output_type": "stream",
          "name": "stdout",
          "text": [
            "4\n",
            "4.0\n"
          ]
        }
      ]
    },
    {
      "cell_type": "markdown",
      "source": [
        "Type() Function"
      ],
      "metadata": {
        "id": "6Lnq2bXlkJ3y"
      }
    },
    {
      "cell_type": "code",
      "source": [
        "x = 5\n",
        "y = \"John\"\n",
        "\n",
        "print(type(x))\n",
        "print(type(y))\n"
      ],
      "metadata": {
        "colab": {
          "base_uri": "https://localhost:8080/"
        },
        "id": "mGG_6nyGkNFh",
        "outputId": "43fb740c-5604-4140-f539-a3649cc5771d"
      },
      "execution_count": 27,
      "outputs": [
        {
          "output_type": "stream",
          "name": "stdout",
          "text": [
            "<class 'int'>\n",
            "<class 'str'>\n"
          ]
        }
      ]
    },
    {
      "cell_type": "markdown",
      "source": [
        "Double Quote or Single Quote"
      ],
      "metadata": {
        "id": "WQcTc29tkqkp"
      }
    },
    {
      "cell_type": "code",
      "source": [
        "y = \"John\"\n",
        "y = 'John'"
      ],
      "metadata": {
        "id": "nttPQEDwksuZ"
      },
      "execution_count": 46,
      "outputs": []
    },
    {
      "cell_type": "markdown",
      "source": [
        "Case Sensitive"
      ],
      "metadata": {
        "id": "xuFzhHHplNRL"
      }
    },
    {
      "cell_type": "code",
      "source": [
        "a = 4\n",
        "A = \"Sally\"\n",
        "\n",
        "print(a)\n",
        "print(A)\n",
        "\n",
        "#Overwrite\n",
        "a = \"Sally\"\n",
        "print(a)"
      ],
      "metadata": {
        "colab": {
          "base_uri": "https://localhost:8080/"
        },
        "id": "YuGk5BoRlO_q",
        "outputId": "42c3ac69-8530-46e5-e7c5-c5d2a7a7c3ad"
      },
      "execution_count": 45,
      "outputs": [
        {
          "output_type": "stream",
          "name": "stdout",
          "text": [
            "4\n",
            "Sally\n",
            "Sally\n"
          ]
        }
      ]
    },
    {
      "cell_type": "markdown",
      "source": [
        "Multiple Variables"
      ],
      "metadata": {
        "id": "97U59y--lbJl"
      }
    },
    {
      "cell_type": "code",
      "source": [
        "x, y, z = \"one\", \"two\", \"three\"\n",
        "\n",
        "print(x)\n",
        "print(y)\n",
        "print(z)\n",
        "print(x, y, z)"
      ],
      "metadata": {
        "colab": {
          "base_uri": "https://localhost:8080/"
        },
        "id": "YAbaTcSFlc0l",
        "outputId": "4c781580-623b-4d8b-9b64-6f3f194949f5"
      },
      "execution_count": 37,
      "outputs": [
        {
          "output_type": "stream",
          "name": "stdout",
          "text": [
            "one\n",
            "two\n",
            "three\n",
            "one two three\n"
          ]
        }
      ]
    },
    {
      "cell_type": "markdown",
      "source": [
        "One Value to Multiple Variables"
      ],
      "metadata": {
        "id": "zzNQEqD0l5o1"
      }
    },
    {
      "cell_type": "code",
      "source": [
        "w=x=y=z = \"Four\"\n",
        "\n",
        "print(w)\n",
        "print(x)\n",
        "print(y)\n",
        "print(z)"
      ],
      "metadata": {
        "colab": {
          "base_uri": "https://localhost:8080/"
        },
        "id": "LBGOAQl7l9zT",
        "outputId": "da23d671-5aa6-4076-ef0a-7dbdc3c93991"
      },
      "execution_count": 39,
      "outputs": [
        {
          "output_type": "stream",
          "name": "stdout",
          "text": [
            "Four\n",
            "Four\n",
            "Four\n",
            "Four\n"
          ]
        }
      ]
    },
    {
      "cell_type": "markdown",
      "source": [
        "Output Variables"
      ],
      "metadata": {
        "id": "30T8WkYCmUiD"
      }
    },
    {
      "cell_type": "code",
      "source": [
        "x = \"enjoying\"\n",
        "\n",
        "print(\"Python programming is \" + x)\n",
        "print(\"Python programming is\", x)"
      ],
      "metadata": {
        "colab": {
          "base_uri": "https://localhost:8080/"
        },
        "id": "9e7qdkplmWJr",
        "outputId": "ff8e44ad-227b-44e9-a54b-d64512b6a1f7"
      },
      "execution_count": 47,
      "outputs": [
        {
          "output_type": "stream",
          "name": "stdout",
          "text": [
            "Python programming is enjoying\n",
            "Python programming is enjoying\n"
          ]
        }
      ]
    },
    {
      "cell_type": "code",
      "source": [
        "#Other way\n",
        "x = \"Python is \"\n",
        "y = \"enjoying\"\n",
        "z = x + y\n",
        "print(z)\n",
        "print(x + y)"
      ],
      "metadata": {
        "colab": {
          "base_uri": "https://localhost:8080/"
        },
        "id": "AkGgzJvym4-i",
        "outputId": "46cb9542-cfef-4fe5-853b-c2784c8c8b4e"
      },
      "execution_count": 50,
      "outputs": [
        {
          "output_type": "stream",
          "name": "stdout",
          "text": [
            "Python is enjoying\n",
            "Python is enjoying\n"
          ]
        }
      ]
    },
    {
      "cell_type": "markdown",
      "source": [
        "Arithmetic Operations\n",
        "\n",
        "1.+ (Addition)\n",
        "\n",
        "2.- (Subtraction)\n",
        "\n",
        "3.* (Multiplication)\n",
        "\n",
        "4./ (Division)\n",
        "\n",
        "5.% (Modulo)\n",
        "\n",
        "6.** (Exponentation)\n",
        "\n",
        "7.// (Floor Division)"
      ],
      "metadata": {
        "id": "JchhU1KNnS3m"
      }
    },
    {
      "cell_type": "code",
      "source": [
        "x = 5\n",
        "y = 3\n",
        "print(x + y)\n",
        "\n",
        "sum = x + y\n",
        "sum"
      ],
      "metadata": {
        "colab": {
          "base_uri": "https://localhost:8080/"
        },
        "id": "NqP-MOAtntpU",
        "outputId": "79363195-9ca3-4780-db71-6535480c956d"
      },
      "execution_count": 55,
      "outputs": [
        {
          "output_type": "stream",
          "name": "stdout",
          "text": [
            "8\n"
          ]
        },
        {
          "output_type": "execute_result",
          "data": {
            "text/plain": [
              "8"
            ]
          },
          "metadata": {},
          "execution_count": 55
        }
      ]
    },
    {
      "cell_type": "markdown",
      "source": [
        "Assignment Operators\n",
        "\n",
        "1.=\n",
        "\n",
        "2.+=\n",
        "\n",
        "3.-=\n",
        "\n",
        "4.*=\n",
        "\n",
        "5./=\n",
        "\n",
        "6.%=\n",
        "\n",
        "7.**="
      ],
      "metadata": {
        "id": "NIXnKDrhob8E"
      }
    },
    {
      "cell_type": "code",
      "source": [
        "a, b, c = 0, -1, 6\n",
        "c %= 3\n",
        "\n",
        "c"
      ],
      "metadata": {
        "colab": {
          "base_uri": "https://localhost:8080/"
        },
        "id": "NsiX3t3aovA-",
        "outputId": "67d82f36-5c42-4820-a6b3-0946f8447065"
      },
      "execution_count": 56,
      "outputs": [
        {
          "output_type": "execute_result",
          "data": {
            "text/plain": [
              "0"
            ]
          },
          "metadata": {},
          "execution_count": 56
        }
      ]
    },
    {
      "cell_type": "markdown",
      "source": [
        "Comparison Operators\n",
        "\n",
        "1.== (Equal)\n",
        "\n",
        "2.!= (Not equal)\n",
        "\n",
        "3.> (Greater than)\n",
        "\n",
        "4.< (Less than)\n",
        "\n",
        "5.>= (Greater than or equal to)\n",
        "\n",
        "6.<= (Less than or equal to)\n",
        "\n",
        "Logical Operator\n",
        "\n",
        "1.and\n",
        "\n",
        "2.or\n",
        "\n",
        "3.not\n",
        "\n",
        "Identity Operator\n",
        "\n",
        "1.is\n",
        "\n",
        "2.is not\n",
        "\n",
        "Bitwise Operator\n",
        "\n",
        "1.& (AND)\n",
        "\n",
        "2.| (OR)\n",
        "\n",
        "3.^ (XOR)\n",
        "\n",
        "4.~ (NOT)\n",
        "\n",
        "5.<< (Zero fill left shift)\n",
        "\n",
        "6.>> (Signed right shift)"
      ],
      "metadata": {
        "id": "Zaozy8m8pBeu"
      }
    },
    {
      "cell_type": "code",
      "source": [
        "a, b, c = 0, -1, 5\n",
        "a>b and c>b"
      ],
      "metadata": {
        "colab": {
          "base_uri": "https://localhost:8080/"
        },
        "id": "Em7ptm58qDT1",
        "outputId": "ae0b40bf-b0ec-48e8-a38d-cd2569efb44e"
      },
      "execution_count": 75,
      "outputs": [
        {
          "output_type": "execute_result",
          "data": {
            "text/plain": [
              "True"
            ]
          },
          "metadata": {},
          "execution_count": 75
        }
      ]
    },
    {
      "cell_type": "markdown",
      "source": [
        "Identity Operators"
      ],
      "metadata": {
        "id": "4_dm3HLCrThm"
      }
    },
    {
      "cell_type": "code",
      "source": [
        "a, b, c = 0, -1, 5\n",
        "a is c\n"
      ],
      "metadata": {
        "colab": {
          "base_uri": "https://localhost:8080/"
        },
        "id": "_s6uxXZqqca0",
        "outputId": "b9728943-ca71-452f-c26a-63cc0e91ab59"
      },
      "execution_count": 74,
      "outputs": [
        {
          "output_type": "execute_result",
          "data": {
            "text/plain": [
              "False"
            ]
          },
          "metadata": {},
          "execution_count": 74
        }
      ]
    },
    {
      "cell_type": "markdown",
      "source": [
        "Bitwise Operators"
      ],
      "metadata": {
        "id": "WW8RNZDzrUgL"
      }
    },
    {
      "cell_type": "code",
      "source": [
        "a, b, c = 0, -1, 5\n",
        "c<< 1"
      ],
      "metadata": {
        "colab": {
          "base_uri": "https://localhost:8080/"
        },
        "id": "U0lCeKwrrRZT",
        "outputId": "610ed963-3cce-4ef3-e37f-bf974dedcefb"
      },
      "execution_count": 78,
      "outputs": [
        {
          "output_type": "execute_result",
          "data": {
            "text/plain": [
              "10"
            ]
          },
          "metadata": {},
          "execution_count": 78
        }
      ]
    }
  ]
}