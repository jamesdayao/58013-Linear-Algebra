{
  "nbformat": 4,
  "nbformat_minor": 0,
  "metadata": {
    "colab": {
      "provenance": [],
      "include_colab_link": true
    },
    "kernelspec": {
      "name": "python3",
      "display_name": "Python 3"
    },
    "language_info": {
      "name": "python"
    }
  },
  "cells": [
    {
      "cell_type": "markdown",
      "metadata": {
        "id": "view-in-github",
        "colab_type": "text"
      },
      "source": [
        "<a href=\"https://colab.research.google.com/github/jamesdayao/58013-Linear-Algebra/blob/main/Python_Exercise_10.ipynb\" target=\"_parent\"><img src=\"https://colab.research.google.com/assets/colab-badge.svg\" alt=\"Open In Colab\"/></a>"
      ]
    },
    {
      "cell_type": "code",
      "execution_count": 4,
      "metadata": {
        "colab": {
          "base_uri": "https://localhost:8080/"
        },
        "id": "Cq4azsr__wDX",
        "outputId": "75b7d49b-742e-496b-8b89-91d6d7f45034"
      },
      "outputs": [
        {
          "output_type": "stream",
          "name": "stdout",
          "text": [
            "[[ 1.  1.  1.]\n",
            " [ 3. -2. -1.]\n",
            " [-1.  4.  2.]] \n",
            "\n",
            "(3, 3) \n",
            "\n",
            "[[ 1.]\n",
            " [ 4.]\n",
            " [-3.]] \n",
            "\n",
            "(3, 1) \n",
            "\n"
          ]
        }
      ],
      "source": [
        "import numpy as np\n",
        "\n",
        "X = np.array([[1,1,1], [3,-2,-1],[-1,4,2]], dtype = float)\n",
        "Y = np.array([[1],[4],[-3]], dtype = float)\n",
        "\n",
        "print(X, \"\\n\")\n",
        "print(X.shape, \"\\n\")\n",
        "print(Y, \"\\n\")\n",
        "print(Y.shape, \"\\n\")"
      ]
    },
    {
      "cell_type": "code",
      "source": [
        "import numpy as np\n",
        "\n",
        "#Formula\n",
        "#F is flour, Y is yeast, E is eggs\n",
        "\n",
        "#30F + 10Y + 120E = 12500\n",
        "#40F + 20Y + 200E = 18000\n",
        "#50F + 40Y + 360E = 25700\n",
        "\n",
        "#Array for Coefficients\n",
        "ingredients = np.array([[30,10,120],[40,20,200],[50,40,360]])\n",
        "\n",
        "#Array for Prices\n",
        "prices = np.array([12500, 18000, 25700])\n",
        "\n",
        "#solving for the equations\n",
        "sol = np.linalg.solve(ingredients, prices)\n",
        "\n",
        "#extract the prices from the solution\n",
        "flour, yeast, egg =  sol\n",
        "\n",
        "fps = str(round(flour, 2))\n",
        "yps = str(round(yeast, 2))\n",
        "eps = str(round(egg, 2))\n",
        "\n",
        "print(ingredients, \"\\n\")\n",
        "print(prices, \"\\n\")\n",
        "print(\"Price of flour per sack: \" + fps + \" pesos\")\n",
        "print(\"Price of yeast per pack: \" + yps + \" pesos\")\n",
        "print(\"Price of one piece of egg: \" + eps + \" pesos\")"
      ],
      "metadata": {
        "id": "dh4WAlRVBDSt",
        "outputId": "0d1ca3fa-6514-4189-882f-c229e583875b",
        "colab": {
          "base_uri": "https://localhost:8080/"
        }
      },
      "execution_count": 3,
      "outputs": [
        {
          "output_type": "stream",
          "name": "stdout",
          "text": [
            "[[ 30  10 120]\n",
            " [ 40  20 200]\n",
            " [ 50  40 360]] \n",
            "\n",
            "[12500 18000 25700] \n",
            "\n",
            "Price of flour per sack: 330.0 pesos\n",
            "Price of yeast per pack: 140.0 pesos\n",
            "Price of one piece of egg: 10.0 pesos\n"
          ]
        }
      ]
    }
  ]
}