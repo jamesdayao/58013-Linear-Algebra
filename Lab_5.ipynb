{
  "nbformat": 4,
  "nbformat_minor": 0,
  "metadata": {
    "colab": {
      "provenance": [],
      "authorship_tag": "ABX9TyP+ChDauDP/86b84Ux4YIOL",
      "include_colab_link": true
    },
    "kernelspec": {
      "name": "python3",
      "display_name": "Python 3"
    },
    "language_info": {
      "name": "python"
    }
  },
  "cells": [
    {
      "cell_type": "markdown",
      "metadata": {
        "id": "view-in-github",
        "colab_type": "text"
      },
      "source": [
        "<a href=\"https://colab.research.google.com/github/jamesdayao/58013-Linear-Algebra/blob/main/Lab_5.ipynb\" target=\"_parent\"><img src=\"https://colab.research.google.com/assets/colab-badge.svg\" alt=\"Open In Colab\"/></a>"
      ]
    },
    {
      "cell_type": "markdown",
      "source": [
        "#Scaling"
      ],
      "metadata": {
        "id": "gVfKkrIECM3X"
      }
    },
    {
      "cell_type": "code",
      "execution_count": 4,
      "metadata": {
        "id": "tIZ3WBBzG0W2",
        "colab": {
          "base_uri": "https://localhost:8080/"
        },
        "outputId": "ab4c1f20-4327-4f79-d1f8-6cea6fcd8e00"
      },
      "outputs": [
        {
          "output_type": "stream",
          "name": "stdout",
          "text": [
            "[1 5 8 9] \n",
            "\n",
            "[ 5 25 40 45] \n",
            "\n"
          ]
        },
        {
          "output_type": "execute_result",
          "data": {
            "text/plain": [
              "array([ 5, 25, 40, 45])"
            ]
          },
          "metadata": {},
          "execution_count": 4
        }
      ],
      "source": [
        "import numpy as np\n",
        "\n",
        "A = np.array([1,5,8,9])\n",
        "print(A, \"\\n\")\n",
        "\n",
        "S = 5*A\n",
        "print(S, \"\\n\")\n",
        "\n",
        "S = np.multiply(5,A)\n",
        "S"
      ]
    },
    {
      "cell_type": "markdown",
      "source": [
        "Dot Product"
      ],
      "metadata": {
        "id": "P82evDT_CrMg"
      }
    },
    {
      "cell_type": "code",
      "source": [
        "a = [5,10,2]\n",
        "b = [2,4,3]\n",
        "\n",
        "dotproduct = np.dot(a,b)\n",
        "print('Dot Product is:', dotproduct)"
      ],
      "metadata": {
        "colab": {
          "base_uri": "https://localhost:8080/"
        },
        "id": "vuOJvcjeCwcs",
        "outputId": "e4942781-84bc-4555-ba80-5b9e5d5cc914"
      },
      "execution_count": 7,
      "outputs": [
        {
          "output_type": "stream",
          "name": "stdout",
          "text": [
            "Dot Product is: 56\n"
          ]
        }
      ]
    },
    {
      "cell_type": "markdown",
      "source": [
        "Cross Product"
      ],
      "metadata": {
        "id": "bUKSIf7YDZsK"
      }
    },
    {
      "cell_type": "code",
      "source": [
        "p = [4, 2]\n",
        "q = [5, 6]\n",
        "\n",
        "product = np.cross(p,q)\n",
        "print('Cross Product is:', product)"
      ],
      "metadata": {
        "colab": {
          "base_uri": "https://localhost:8080/"
        },
        "id": "3DJV537MDa7F",
        "outputId": "3d13df52-6cf4-44c8-c99d-40f8c4bc39a2"
      },
      "execution_count": 8,
      "outputs": [
        {
          "output_type": "stream",
          "name": "stdout",
          "text": [
            "Cross Product is: 14\n"
          ]
        }
      ]
    }
  ]
}