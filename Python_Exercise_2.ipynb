{
  "nbformat": 4,
  "nbformat_minor": 0,
  "metadata": {
    "colab": {
      "provenance": [],
      "authorship_tag": "ABX9TyO0wRDJKoOH/x5TiXI3gHR/",
      "include_colab_link": true
    },
    "kernelspec": {
      "name": "python3",
      "display_name": "Python 3"
    },
    "language_info": {
      "name": "python"
    }
  },
  "cells": [
    {
      "cell_type": "markdown",
      "metadata": {
        "id": "view-in-github",
        "colab_type": "text"
      },
      "source": [
        "<a href=\"https://colab.research.google.com/github/jamesdayao/58013-Linear-Algebra/blob/main/Python_Exercise_2.ipynb\" target=\"_parent\"><img src=\"https://colab.research.google.com/assets/colab-badge.svg\" alt=\"Open In Colab\"/></a>"
      ]
    },
    {
      "cell_type": "markdown",
      "source": [
        "**Vector Representation using NumPy**"
      ],
      "metadata": {
        "id": "yNuo7xoeja9P"
      }
    },
    {
      "cell_type": "markdown",
      "source": [
        "**Scalars**\n",
        "\n",
        "are numerical entities that are represented by a single value."
      ],
      "metadata": {
        "id": "EdbGbWtJjc_T"
      }
    },
    {
      "cell_type": "code",
      "execution_count": 4,
      "metadata": {
        "colab": {
          "base_uri": "https://localhost:8080/"
        },
        "id": "T-7NgSFujQUA",
        "outputId": "47f4bb77-20c4-49c5-b0b2-37b2a1f402eb"
      },
      "outputs": [
        {
          "output_type": "execute_result",
          "data": {
            "text/plain": [
              "array(-0.5)"
            ]
          },
          "metadata": {},
          "execution_count": 4
        }
      ],
      "source": [
        "import numpy as np\n",
        "\n",
        "x  = np.array(-0.5)\n",
        "x"
      ]
    },
    {
      "cell_type": "markdown",
      "source": [
        "**Vectors**\n",
        "\n",
        "are  array of numerical values or scalars that would represent any feature space.\n",
        "\n",
        "Feature spaces or simply dimensions or the parameters of an equation or a function."
      ],
      "metadata": {
        "id": "3AgSiaoNj6D8"
      }
    },
    {
      "cell_type": "code",
      "source": [
        "A = np.array([4, 3])\n",
        "B = np.array([2, -5])\n",
        "\n",
        "print('Vector A is', A)\n",
        "print('Vector B is', B)"
      ],
      "metadata": {
        "colab": {
          "base_uri": "https://localhost:8080/"
        },
        "id": "YPZUx2QLkJs6",
        "outputId": "464273fd-18fc-479b-b837-5284b80ebbac"
      },
      "execution_count": 5,
      "outputs": [
        {
          "output_type": "stream",
          "name": "stdout",
          "text": [
            "Vector A is [4 3]\n",
            "Vector B is [ 2 -5]\n"
          ]
        }
      ]
    },
    {
      "cell_type": "markdown",
      "source": [
        "Descibing Vectors in NumPy\n",
        "\n",
        "Describing vectors is very important if we want to perform basic to advanced operations with them. The fundamental ways in describing vectors are knowing their shape, size and dimensions."
      ],
      "metadata": {
        "id": "fG4AjhNAkVPD"
      }
    },
    {
      "cell_type": "code",
      "source": [
        "#Checking Shapes\n",
        "#Shapes tells us how many rows and columns are there\n",
        "\n",
        "ball1 = np.array([1, 2, 3])\n",
        "ball2 = np.array([0, 1, -1])\n",
        "\n",
        "pool = np.array([ball1, ball2]) #Matrix\n",
        "print(pool.shape)\n",
        "\n",
        "U = np.array([[1,2], [2,3]])\n",
        "\n",
        "print(U.shape)\n",
        "\n",
        "#Checking Size\n",
        "#Array/Vector sizes tells us many total number of elements are there in the vector\n",
        "\n",
        "print(U.size)\n",
        "\n",
        "#Checking Dimensions\n",
        "#The dimensions or rank of a vector tells us how many dimensions are there for the vector.\n",
        "\n",
        "A.ndim\n",
        "print(pool.ndim)"
      ],
      "metadata": {
        "colab": {
          "base_uri": "https://localhost:8080/"
        },
        "id": "kqkwR5QWke2z",
        "outputId": "73f8f1cc-3c4e-4a2d-bd26-87b02b9ea32e"
      },
      "execution_count": 14,
      "outputs": [
        {
          "output_type": "stream",
          "name": "stdout",
          "text": [
            "(2, 3)\n",
            "(2, 2)\n",
            "4\n",
            "2\n"
          ]
        }
      ]
    }
  ]
}