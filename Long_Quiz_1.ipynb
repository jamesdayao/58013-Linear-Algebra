{
  "nbformat": 4,
  "nbformat_minor": 0,
  "metadata": {
    "colab": {
      "provenance": [],
      "authorship_tag": "ABX9TyOuGARI3D1GpXvsBeonfoTs",
      "include_colab_link": true
    },
    "kernelspec": {
      "name": "python3",
      "display_name": "Python 3"
    },
    "language_info": {
      "name": "python"
    }
  },
  "cells": [
    {
      "cell_type": "markdown",
      "metadata": {
        "id": "view-in-github",
        "colab_type": "text"
      },
      "source": [
        "<a href=\"https://colab.research.google.com/github/jamesdayao/58013-Linear-Algebra/blob/main/Long_Quiz_1.ipynb\" target=\"_parent\"><img src=\"https://colab.research.google.com/assets/colab-badge.svg\" alt=\"Open In Colab\"/></a>"
      ]
    },
    {
      "cell_type": "code",
      "execution_count": 8,
      "metadata": {
        "colab": {
          "base_uri": "https://localhost:8080/"
        },
        "id": "WSs09u0VmMTG",
        "outputId": "cb5ea2b3-fd15-4acd-fb9b-508e9223fbda"
      },
      "outputs": [
        {
          "output_type": "stream",
          "name": "stdout",
          "text": [
            "[[22 28]\n",
            " [49 64]] \n",
            "\n",
            "[[2 4]\n",
            " [6 8]] \n",
            "\n",
            "[[ 2  4  6]\n",
            " [ 8 10 12]\n",
            " [14 16 18]] \n",
            "\n",
            "[20 -4 -3]\n"
          ]
        }
      ],
      "source": [
        "import numpy as np\n",
        "\n",
        "A = ([(1, 2, 3), (4, 5, 6)])\n",
        "B = ([(1,2), (3, 4), (5, 6)])\n",
        "C = ([(1, 2, 3), (4, 5, 6), (7, 8, 9)])\n",
        "D = ([(1, 2), (3, 4)])\n",
        "\n",
        "#AB\n",
        "print(np.dot(A, B), \"\\n\")\n",
        "\n",
        "#D+D\n",
        "print(np.add(D, D), \"\\n\")\n",
        "\n",
        "#2C\n",
        "print(np.dot(2, C), \"\\n\")\n",
        "\n",
        "A = ([2, 7, 4])\n",
        "B = ([3, 9, 8])\n",
        "\n",
        "#Cross-Product of A and B\n",
        "print(np.cross(A, B))"
      ]
    }
  ]
}