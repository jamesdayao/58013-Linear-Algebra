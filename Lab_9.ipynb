{
  "nbformat": 4,
  "nbformat_minor": 0,
  "metadata": {
    "colab": {
      "provenance": [],
      "authorship_tag": "ABX9TyMywt3dUn4bQfIKwMylQruS",
      "include_colab_link": true
    },
    "kernelspec": {
      "name": "python3",
      "display_name": "Python 3"
    },
    "language_info": {
      "name": "python"
    }
  },
  "cells": [
    {
      "cell_type": "markdown",
      "metadata": {
        "id": "view-in-github",
        "colab_type": "text"
      },
      "source": [
        "<a href=\"https://colab.research.google.com/github/jamesdayao/58013-Linear-Algebra/blob/main/Lab_9.ipynb\" target=\"_parent\"><img src=\"https://colab.research.google.com/assets/colab-badge.svg\" alt=\"Open In Colab\"/></a>"
      ]
    },
    {
      "cell_type": "code",
      "execution_count": 7,
      "metadata": {
        "colab": {
          "base_uri": "https://localhost:8080/"
        },
        "id": "ThpVwobD2hDQ",
        "outputId": "7d753800-0c1a-4e47-857a-7a02e79de7cc"
      },
      "outputs": [
        {
          "output_type": "execute_result",
          "data": {
            "text/plain": [
              "3"
            ]
          },
          "metadata": {},
          "execution_count": 7
        }
      ],
      "source": [
        "import numpy as np\n",
        "import matplotlib.pyplot as plt\n",
        "%matplotlib inline\n",
        "\n",
        "A = np.array([[1,4], [0,3]])\n",
        "\n",
        "round(np.linalg.det(A))"
      ]
    },
    {
      "cell_type": "code",
      "source": [
        "B = np.array([[1,3,5, 6], [0,3,1,3], [3,1,8,2], [5,2,6,8]])\n",
        "\n",
        "round(np.linalg.det(B))"
      ],
      "metadata": {
        "colab": {
          "base_uri": "https://localhost:8080/"
        },
        "id": "7BPn462U3wQL",
        "outputId": "2044b56a-a082-4a18-9aae-8408eb59e1ee"
      },
      "execution_count": 8,
      "outputs": [
        {
          "output_type": "execute_result",
          "data": {
            "text/plain": [
              "-235"
            ]
          },
          "metadata": {},
          "execution_count": 8
        }
      ]
    },
    {
      "cell_type": "markdown",
      "source": [
        "#Coding Activity 9"
      ],
      "metadata": {
        "id": "PLUQGsONCjZz"
      }
    },
    {
      "cell_type": "code",
      "source": [
        "x = np.array([[1,2,3],[2,3,1],[3,1,2]])\n",
        "y = np.array([[4,5,6],[5,6,4],[6,4,5]])\n",
        "z = np.array([[7,8,9],[8,9,7],[9,7,8]])\n",
        "\n",
        "print(x)\n",
        "print(y)\n",
        "print(z)"
      ],
      "metadata": {
        "colab": {
          "base_uri": "https://localhost:8080/"
        },
        "id": "LA2T4hkQFzM5",
        "outputId": "8e55fba3-078d-4f07-a44b-c0f86aecba36"
      },
      "execution_count": 9,
      "outputs": [
        {
          "output_type": "stream",
          "name": "stdout",
          "text": [
            "[[1 2 3]\n",
            " [2 3 1]\n",
            " [3 1 2]]\n",
            "[[4 5 6]\n",
            " [5 6 4]\n",
            " [6 4 5]]\n",
            "[[7 8 9]\n",
            " [8 9 7]\n",
            " [9 7 8]]\n"
          ]
        }
      ]
    },
    {
      "cell_type": "markdown",
      "source": [
        "Associative Property: (AB)C = A(BC)"
      ],
      "metadata": {
        "id": "x7aOcXKPFTmI"
      }
    },
    {
      "cell_type": "code",
      "source": [
        "#(AB)C\n",
        "print(np.dot(np.dot(x,y), z),\"\\n\")\n",
        "#A(BC)\n",
        "print(np.dot(np.dot(y,z), x))"
      ],
      "metadata": {
        "colab": {
          "base_uri": "https://localhost:8080/"
        },
        "id": "zK15zr1M_LB8",
        "outputId": "27546b44-f3ec-46c1-cc03-8a46bdca2e2c"
      },
      "execution_count": 10,
      "outputs": [
        {
          "output_type": "stream",
          "name": "stdout",
          "text": [
            "[[717 720 723]\n",
            " [720 723 717]\n",
            " [723 717 720]] \n",
            "\n",
            "[[717 720 723]\n",
            " [720 723 717]\n",
            " [723 717 720]]\n"
          ]
        }
      ]
    },
    {
      "cell_type": "markdown",
      "source": [
        "Distributive Property: A(B + C) = AB + AC"
      ],
      "metadata": {
        "id": "sY0ZG1h1FcZx"
      }
    },
    {
      "cell_type": "code",
      "source": [
        "#A(B+C)\n",
        "print(np.dot(np.add(y,z), x))\n",
        "\n",
        "#AB + AC\n",
        "a = np.dot(x,y)\n",
        "b = np.dot(x,z)\n",
        "\n",
        "print(\"\\n\", np.add(a,b))"
      ],
      "metadata": {
        "colab": {
          "base_uri": "https://localhost:8080/"
        },
        "id": "afaSS533FuN_",
        "outputId": "6fabe6b1-5bd2-42cf-a224-eed99f6b6549"
      },
      "execution_count": 11,
      "outputs": [
        {
          "output_type": "stream",
          "name": "stdout",
          "text": [
            "[[82 76 76]\n",
            " [76 82 76]\n",
            " [76 76 82]]\n",
            "\n",
            " [[82 76 76]\n",
            " [76 82 76]\n",
            " [76 76 82]]\n"
          ]
        }
      ]
    },
    {
      "cell_type": "markdown",
      "source": [
        "Closure Property: c(x)"
      ],
      "metadata": {
        "id": "5X4e8KnaFeyc"
      }
    },
    {
      "cell_type": "code",
      "source": [
        "c = 2\n",
        "print(np.dot(c,x))"
      ],
      "metadata": {
        "colab": {
          "base_uri": "https://localhost:8080/"
        },
        "id": "kUGtajP0IId4",
        "outputId": "098d9b0e-62fc-458d-bca8-d862f33fab3a"
      },
      "execution_count": 12,
      "outputs": [
        {
          "output_type": "stream",
          "name": "stdout",
          "text": [
            "[[2 4 6]\n",
            " [4 6 2]\n",
            " [6 2 4]]\n"
          ]
        }
      ]
    },
    {
      "cell_type": "markdown",
      "source": [
        "Identity Property"
      ],
      "metadata": {
        "id": "z25YEhU3FhDY"
      }
    },
    {
      "cell_type": "code",
      "source": [
        "print(np.eye(3, 3))"
      ],
      "metadata": {
        "colab": {
          "base_uri": "https://localhost:8080/"
        },
        "id": "ruXKHGKwMeR2",
        "outputId": "26104f3e-e46f-429e-b9ed-88e9ca4b933d"
      },
      "execution_count": 21,
      "outputs": [
        {
          "output_type": "stream",
          "name": "stdout",
          "text": [
            "[[1. 0. 0.]\n",
            " [0. 1. 0.]\n",
            " [0. 0. 1.]]\n"
          ]
        }
      ]
    },
    {
      "cell_type": "markdown",
      "source": [
        "Zero/Null Property"
      ],
      "metadata": {
        "id": "ddBzZtaFFhfH"
      }
    },
    {
      "cell_type": "code",
      "source": [
        "print(np.zeros([3,3]))"
      ],
      "metadata": {
        "colab": {
          "base_uri": "https://localhost:8080/"
        },
        "id": "_mS-0eQ2Pnjk",
        "outputId": "554d349f-68b6-404c-945f-b3e04fe27f6f"
      },
      "execution_count": 22,
      "outputs": [
        {
          "output_type": "stream",
          "name": "stdout",
          "text": [
            "[[0. 0. 0.]\n",
            " [0. 0. 0.]\n",
            " [0. 0. 0.]]\n"
          ]
        }
      ]
    },
    {
      "cell_type": "markdown",
      "source": [
        "Scalar Property"
      ],
      "metadata": {
        "id": "yAZzD2OzFjc_"
      }
    },
    {
      "cell_type": "code",
      "source": [
        "e = 2\n",
        "print(np.dot(e, np.eye(3,3)))"
      ],
      "metadata": {
        "colab": {
          "base_uri": "https://localhost:8080/"
        },
        "id": "iFmbaur0P8YP",
        "outputId": "b44a8618-eea0-4fc0-8b19-8ef40e646223"
      },
      "execution_count": 23,
      "outputs": [
        {
          "output_type": "stream",
          "name": "stdout",
          "text": [
            "[[2. 0. 0.]\n",
            " [0. 2. 0.]\n",
            " [0. 0. 2.]]\n"
          ]
        }
      ]
    }
  ]
}