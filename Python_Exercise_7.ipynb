{
  "nbformat": 4,
  "nbformat_minor": 0,
  "metadata": {
    "colab": {
      "provenance": [],
      "authorship_tag": "ABX9TyN0jdnW7z+gZvKp4nyP5dys",
      "include_colab_link": true
    },
    "kernelspec": {
      "name": "python3",
      "display_name": "Python 3"
    },
    "language_info": {
      "name": "python"
    }
  },
  "cells": [
    {
      "cell_type": "markdown",
      "metadata": {
        "id": "view-in-github",
        "colab_type": "text"
      },
      "source": [
        "<a href=\"https://colab.research.google.com/github/jamesdayao/58013-Linear-Algebra/blob/main/Python_Exercise_7.ipynb\" target=\"_parent\"><img src=\"https://colab.research.google.com/assets/colab-badge.svg\" alt=\"Open In Colab\"/></a>"
      ]
    },
    {
      "cell_type": "markdown",
      "source": [
        "#Matrices"
      ],
      "metadata": {
        "id": "F5eKlqqSryib"
      }
    },
    {
      "cell_type": "code",
      "execution_count": 8,
      "metadata": {
        "id": "vsxqDSxcriD_"
      },
      "outputs": [],
      "source": [
        "#Function to  describe matrix\n",
        "import numpy as np\n",
        "\n",
        "def describe_mat(matrix):\n",
        "  print(f'Matrix:\\n{matrix}\\n\\nShape:{matrix.shape}\\nRank:{matrix.ndim}\\n')"
      ]
    },
    {
      "cell_type": "code",
      "source": [
        "#Declaring a 2x2 matrix\n",
        "A = np.array([[1,2],[3,1]])\n",
        "\n",
        "describe_mat(A)\n",
        "\n",
        "G = np.array([[1,1],[2,2]])\n",
        "\n",
        "describe_mat(G)"
      ],
      "metadata": {
        "colab": {
          "base_uri": "https://localhost:8080/"
        },
        "id": "iO1zBBR2sJZB",
        "outputId": "8bc8ca0d-e9e0-4196-fff9-8f8768b5fd2c"
      },
      "execution_count": 10,
      "outputs": [
        {
          "output_type": "stream",
          "name": "stdout",
          "text": [
            "Matrix:\n",
            "[[1 2]\n",
            " [3 1]]\n",
            "\n",
            "Shape:(2, 2)\n",
            "Rank:2\n",
            "\n",
            "Matrix:\n",
            "[[1 1]\n",
            " [2 2]]\n",
            "\n",
            "Shape:(2, 2)\n",
            "Rank:2\n",
            "\n"
          ]
        }
      ]
    },
    {
      "cell_type": "code",
      "source": [
        "#Declaring  a 3x2 matrix\n",
        "B = np.array([[8,2],[5,4],[1,1]])\n",
        "\n",
        "describe_mat(B)"
      ],
      "metadata": {
        "colab": {
          "base_uri": "https://localhost:8080/"
        },
        "id": "X2dti2Ofsn7R",
        "outputId": "39a4b083-cea9-4e9b-d9e7-e4dc822ecdae"
      },
      "execution_count": 11,
      "outputs": [
        {
          "output_type": "stream",
          "name": "stdout",
          "text": [
            "Matrix:\n",
            "[[8 2]\n",
            " [5 4]\n",
            " [1 1]]\n",
            "\n",
            "Shape:(3, 2)\n",
            "Rank:2\n",
            "\n"
          ]
        }
      ]
    },
    {
      "cell_type": "code",
      "source": [
        "H = np.array([1,2,3,4,5])\n",
        "\n",
        "describe_mat(H)"
      ],
      "metadata": {
        "colab": {
          "base_uri": "https://localhost:8080/"
        },
        "id": "opmWqwmWs_66",
        "outputId": "8109ee18-aca3-4e48-b769-8a6849108e48"
      },
      "execution_count": 17,
      "outputs": [
        {
          "output_type": "stream",
          "name": "stdout",
          "text": [
            "Matrix:\n",
            "[1 2 3 4 5]\n",
            "\n",
            "Shape:(5,)\n",
            "Rank:1\n",
            "\n"
          ]
        }
      ]
    }
  ]
}