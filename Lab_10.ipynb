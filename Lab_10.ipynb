{
  "nbformat": 4,
  "nbformat_minor": 0,
  "metadata": {
    "colab": {
      "provenance": [],
      "authorship_tag": "ABX9TyPgxnWvNGDZO5SlmaVROn0/",
      "include_colab_link": true
    },
    "kernelspec": {
      "name": "python3",
      "display_name": "Python 3"
    },
    "language_info": {
      "name": "python"
    }
  },
  "cells": [
    {
      "cell_type": "markdown",
      "metadata": {
        "id": "view-in-github",
        "colab_type": "text"
      },
      "source": [
        "<a href=\"https://colab.research.google.com/github/jamesdayao/58013-Linear-Algebra/blob/main/Lab_10.ipynb\" target=\"_parent\"><img src=\"https://colab.research.google.com/assets/colab-badge.svg\" alt=\"Open In Colab\"/></a>"
      ]
    },
    {
      "cell_type": "code",
      "execution_count": 3,
      "metadata": {
        "colab": {
          "base_uri": "https://localhost:8080/"
        },
        "id": "Cq4azsr__wDX",
        "outputId": "1c9f8abd-73fc-4681-b81e-577e0b8a7f69"
      },
      "outputs": [
        {
          "output_type": "stream",
          "name": "stdout",
          "text": [
            "[[ 1.  1.  1.]\n",
            " [ 3. -2. -1.]\n",
            " [-1.  4.  2.]] \n",
            "\n",
            "(3, 3) \n",
            "\n",
            "[[ 1.]\n",
            " [ 4.]\n",
            " [-3.]] \n",
            "\n",
            "(3, 1) \n",
            "\n"
          ]
        }
      ],
      "source": [
        "import numpy as np\n",
        "import matplotlib.pyplot as plt\n",
        "%matplotlib inline\n",
        "\n",
        "X = np.array([[1,1,1], [3,-2,-1],[-1,4,2]], dtype = float)\n",
        "Y = np.array([[1],[4],[-3]], dtype = float)\n",
        "\n",
        "print(X, \"\\n\")\n",
        "print(X.shape, \"\\n\")\n",
        "print(Y, \"\\n\")\n",
        "print(Y.shape, \"\\n\")"
      ]
    },
    {
      "cell_type": "code",
      "source": [
        "import numpy as np\n",
        "import matplotlib.pyplot as plt\n",
        "%matplotlib inline\n",
        "\n",
        "#Flour\n",
        "F = ([[30, 40, 50]])\n",
        "#Yeast\n",
        "Y = ([[10, 20, 40]])\n",
        "#Eggs\n",
        "E ="
      ],
      "metadata": {
        "id": "dh4WAlRVBDSt"
      },
      "execution_count": null,
      "outputs": []
    }
  ]
}