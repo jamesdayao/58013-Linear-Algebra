{
  "cells": [
    {
      "cell_type": "markdown",
      "metadata": {
        "id": "view-in-github",
        "colab_type": "text"
      },
      "source": [
        "<a href=\"https://colab.research.google.com/github/jamesdayao/58013-Linear-Algebra/blob/main/Vector%2C_Spaces%2C_and_Operation.ipynb\" target=\"_parent\"><img src=\"https://colab.research.google.com/assets/colab-badge.svg\" alt=\"Open In Colab\"/></a>"
      ]
    },
    {
      "cell_type": "markdown",
      "metadata": {
        "id": "v1cUcwTYg-MZ"
      },
      "source": [
        "NumPy; Vectors and Operations"
      ]
    },
    {
      "cell_type": "code",
      "execution_count": null,
      "metadata": {
        "colab": {
          "base_uri": "https://localhost:8080/"
        },
        "id": "LSeN7piYb2oS",
        "outputId": "ae2c81c9-8fbe-438c-9ae0-0e5731c99044"
      },
      "outputs": [
        {
          "name": "stdout",
          "output_type": "stream",
          "text": [
            "Vector A is  [4 3]\n",
            "Vector B is  [ 2 -5]\n"
          ]
        }
      ],
      "source": [
        "import numpy as np #np here is a variable name\n",
        "\n",
        "A = np.array([4,3]) #A here represents 1 matrix\n",
        "B = np.array([2, -5])\n",
        "\n",
        "print('Vector A is ', A)\n",
        "print('Vector B is ', B)"
      ]
    },
    {
      "cell_type": "markdown",
      "metadata": {
        "id": "4j4NPi2hioW8"
      },
      "source": [
        "Size Dimention, Sizae\n"
      ]
    },
    {
      "cell_type": "code",
      "execution_count": null,
      "metadata": {
        "colab": {
          "base_uri": "https://localhost:8080/"
        },
        "id": "nr-Uiz5_inEt",
        "outputId": "7983478e-8fdc-4e50-95c0-71389acd83d4"
      },
      "outputs": [
        {
          "name": "stdout",
          "output_type": "stream",
          "text": [
            "[[1]\n",
            " [2]\n",
            " [3]]\n"
          ]
        }
      ],
      "source": [
        "#Column\n",
        "import numpy as np\n",
        "\n",
        "ball1 = np.array([[1],[2],[3]])\n",
        "ball2 = np.array([0,1,-1])\n",
        "\n",
        "print(ball1)\n"
      ]
    },
    {
      "cell_type": "code",
      "execution_count": null,
      "metadata": {
        "colab": {
          "base_uri": "https://localhost:8080/"
        },
        "id": "_uf5prlpjZN8",
        "outputId": "cf2f046e-2992-4ad4-a0ce-7a24b6d0c68d"
      },
      "outputs": [
        {
          "name": "stdout",
          "output_type": "stream",
          "text": [
            "[1 2 3]\n",
            "[ 0  1 -1]\n",
            "(3, 3)\n",
            "1\n",
            "1\n"
          ]
        }
      ],
      "source": [
        "import numpy as np\n",
        "\n",
        "ball1 = np.array([1,2,3])\n",
        "ball2 = np.array([0,1,-1])\n",
        "\n",
        "print(ball1)\n",
        "print(ball2)\n",
        "\n",
        "x = np.shape(ball1)\n",
        "y = np.shape(ball2)\n",
        "z = (x + y)\n",
        "\n",
        "print(z)\n",
        "\n",
        "q = np.ndim(x)\n",
        "w = np.ndim(y)\n",
        "\n",
        "print(q)\n",
        "print(w)\n"
      ]
    },
    {
      "cell_type": "markdown",
      "metadata": {
        "id": "3Sx1102Nrdgx"
      },
      "source": [
        "Operations of Vector Spaces"
      ]
    },
    {
      "cell_type": "code",
      "execution_count": 74,
      "metadata": {
        "colab": {
          "base_uri": "https://localhost:8080/"
        },
        "id": "-KGyCJHfoHOm",
        "outputId": "0fdfaa0f-8841-41e5-927e-5bf03354680c"
      },
      "outputs": [
        {
          "output_type": "stream",
          "name": "stdout",
          "text": [
            "[ 6 -2] [ 6 -2]\n"
          ]
        }
      ],
      "source": [
        "#Addition\n",
        "import numpy as np\n",
        "\n",
        "A = np.array([4, 3])\n",
        "B = np.array([2,-5])\n",
        "\n",
        "R1 = A + B\n",
        "R2 = np.add(A, B)\n",
        "print(R1, R2)"
      ]
    },
    {
      "cell_type": "code",
      "source": [
        "#Subtraction\n",
        "\n",
        "import numpy as np\n",
        "A = np.array([4, 3])\n",
        "B = np.array([2,-5])\n",
        "\n",
        "R1 = A - B\n",
        "R2 = np.subtract(A, B)\n",
        "print(R1, R2)\n",
        "R3 = np.subtract(B, A)\n",
        "print(R3)"
      ],
      "metadata": {
        "colab": {
          "base_uri": "https://localhost:8080/"
        },
        "id": "FkBT9kmSt_oa",
        "outputId": "7711468d-5cd8-4124-cb50-abdaf94fcf99"
      },
      "execution_count": 75,
      "outputs": [
        {
          "output_type": "stream",
          "name": "stdout",
          "text": [
            "[2 8] [2 8]\n",
            "[-2 -8]\n"
          ]
        }
      ]
    },
    {
      "cell_type": "code",
      "source": [
        "#Multiplication\n",
        "\n",
        "import numpy as np\n",
        "\n",
        "A = np.array([4, 3])\n",
        "B = np.array([2,-5])\n",
        "\n",
        "R1 = A * B\n",
        "R2 = np.multiply(A, B)\n",
        "print(R1, R2)"
      ],
      "metadata": {
        "colab": {
          "base_uri": "https://localhost:8080/"
        },
        "id": "G0EHofyjutnr",
        "outputId": "55aecda8-30e3-4818-ddd9-410f8ab75bfe"
      },
      "execution_count": 76,
      "outputs": [
        {
          "output_type": "stream",
          "name": "stdout",
          "text": [
            "[  8 -15] [  8 -15]\n"
          ]
        }
      ]
    },
    {
      "cell_type": "code",
      "source": [
        "#Scalar\n",
        "import numpy as np\n",
        "\n",
        "A = np.array([4, 3])\n",
        "B = np.array([2,-5])\n",
        "\n",
        "S = np.array([2])\n",
        "T = S*A\n",
        "\n",
        "print(T)"
      ],
      "metadata": {
        "colab": {
          "base_uri": "https://localhost:8080/"
        },
        "id": "vCbgbiqNu5hL",
        "outputId": "50081c8e-84e4-453e-cb11-f70da39cd216"
      },
      "execution_count": 80,
      "outputs": [
        {
          "output_type": "stream",
          "name": "stdout",
          "text": [
            "[8 6]\n"
          ]
        }
      ]
    },
    {
      "cell_type": "code",
      "source": [
        "#Dot Product\n",
        "import numpy as np\n",
        "\n",
        "A = np.array([4, 3])\n",
        "B = np.array([2,-5])\n",
        "\n",
        "B = B.reshape(2,1)\n",
        "C = np.multiply(A,B)\n",
        "print(C)"
      ],
      "metadata": {
        "colab": {
          "base_uri": "https://localhost:8080/"
        },
        "id": "8YvyA0VVydj8",
        "outputId": "9f3b80d7-5277-474e-a7f5-e1449b92d73b"
      },
      "execution_count": 105,
      "outputs": [
        {
          "output_type": "stream",
          "name": "stdout",
          "text": [
            "[[  8   6]\n",
            " [-20 -15]]\n"
          ]
        }
      ]
    },
    {
      "cell_type": "markdown",
      "source": [
        "Matrix Property"
      ],
      "metadata": {
        "id": "xSB888VCzVT1"
      }
    },
    {
      "cell_type": "code",
      "source": [
        "#Identity Matrix\n",
        "import numpy as np\n",
        "\n",
        "c = np.eye(3,3)\n",
        "print(c)\n",
        "\n",
        "#All diagonals are 1"
      ],
      "metadata": {
        "colab": {
          "base_uri": "https://localhost:8080/"
        },
        "id": "PbJLOxrrzWmE",
        "outputId": "d1ffc2f5-07a2-420e-b83e-5d2ff606a413"
      },
      "execution_count": 88,
      "outputs": [
        {
          "output_type": "stream",
          "name": "stdout",
          "text": [
            "[[1. 0. 0.]\n",
            " [0. 1. 0.]\n",
            " [0. 0. 1.]]\n"
          ]
        }
      ]
    },
    {
      "cell_type": "code",
      "source": [
        "#Zero Matrix\n",
        "\n",
        "d = np.zeros([5,5])\n",
        "print(d)"
      ],
      "metadata": {
        "colab": {
          "base_uri": "https://localhost:8080/"
        },
        "id": "7DRwamEYzrcT",
        "outputId": "ef646b46-8e7e-4ce6-f20f-18886ebaac16"
      },
      "execution_count": 89,
      "outputs": [
        {
          "output_type": "stream",
          "name": "stdout",
          "text": [
            "[[0. 0. 0. 0. 0.]\n",
            " [0. 0. 0. 0. 0.]\n",
            " [0. 0. 0. 0. 0.]\n",
            " [0. 0. 0. 0. 0.]\n",
            " [0. 0. 0. 0. 0.]]\n"
          ]
        }
      ]
    },
    {
      "cell_type": "code",
      "source": [
        "#Full Matrix\n",
        "\n",
        "e = np.full((3,3), 69)\n",
        "print(e)"
      ],
      "metadata": {
        "colab": {
          "base_uri": "https://localhost:8080/"
        },
        "id": "iH7FqQP90NPS",
        "outputId": "bab2788c-527f-43e2-e92c-cd86f8954859"
      },
      "execution_count": 98,
      "outputs": [
        {
          "output_type": "stream",
          "name": "stdout",
          "text": [
            "[[69 69 69]\n",
            " [69 69 69]\n",
            " [69 69 69]]\n"
          ]
        }
      ]
    },
    {
      "cell_type": "code",
      "source": [
        "#Transpose Matrix\n",
        "\n",
        "f = np.transpose(C)\n",
        "print(f)"
      ],
      "metadata": {
        "colab": {
          "base_uri": "https://localhost:8080/"
        },
        "id": "NZ6naaRi0rV2",
        "outputId": "f0278d90-2f8e-4fbf-d404-7359327a1d94"
      },
      "execution_count": 106,
      "outputs": [
        {
          "output_type": "stream",
          "name": "stdout",
          "text": [
            "[[  8 -20]\n",
            " [  6 -15]]\n"
          ]
        }
      ]
    }
  ],
  "metadata": {
    "colab": {
      "provenance": [],
      "authorship_tag": "ABX9TyMs/x3NQcqHakURa3ycB6VT",
      "include_colab_link": true
    },
    "kernelspec": {
      "display_name": "Python 3",
      "name": "python3"
    },
    "language_info": {
      "name": "python"
    }
  },
  "nbformat": 4,
  "nbformat_minor": 0
}